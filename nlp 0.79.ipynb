{
 "cells": [
  {
   "cell_type": "code",
   "execution_count": 1,
   "id": "1c9d7448",
   "metadata": {
    "_cell_guid": "b1076dfc-b9ad-4769-8c92-a6c4dae69d19",
    "_uuid": "8f2839f25d086af736a60e9eeb907d3b93b6e0e5",
    "execution": {
     "iopub.execute_input": "2023-01-24T20:47:43.031767Z",
     "iopub.status.busy": "2023-01-24T20:47:43.031160Z",
     "iopub.status.idle": "2023-01-24T20:47:43.046579Z",
     "shell.execute_reply": "2023-01-24T20:47:43.045765Z"
    },
    "papermill": {
     "duration": 0.037475,
     "end_time": "2023-01-24T20:47:43.048926",
     "exception": false,
     "start_time": "2023-01-24T20:47:43.011451",
     "status": "completed"
    },
    "tags": []
   },
   "outputs": [],
   "source": [
    "import numpy as np # linear algebra\n",
    "import pandas as pd # data processing, CSV file I/O (e.g. pd.read_csv)\n",
    "import os"
   ]
  },
  {
   "cell_type": "markdown",
   "id": "46cabd91",
   "metadata": {
    "papermill": {
     "duration": 0.015747,
     "end_time": "2023-01-24T20:47:43.081077",
     "exception": false,
     "start_time": "2023-01-24T20:47:43.065330",
     "status": "completed"
    },
    "tags": []
   },
   "source": [
    "# MACHINE LEARNING LIBERARIES"
   ]
  },
  {
   "cell_type": "code",
   "execution_count": 2,
   "id": "72832a7e",
   "metadata": {
    "execution": {
     "iopub.execute_input": "2023-01-24T20:47:43.115498Z",
     "iopub.status.busy": "2023-01-24T20:47:43.114770Z",
     "iopub.status.idle": "2023-01-24T20:47:44.609523Z",
     "shell.execute_reply": "2023-01-24T20:47:44.607593Z"
    },
    "papermill": {
     "duration": 1.516225,
     "end_time": "2023-01-24T20:47:44.613374",
     "exception": false,
     "start_time": "2023-01-24T20:47:43.097149",
     "status": "completed"
    },
    "tags": []
   },
   "outputs": [],
   "source": [
    "from sklearn.neighbors import KNeighborsClassifier\n",
    "from sklearn.tree import DecisionTreeClassifier\n",
    "from sklearn.ensemble import RandomForestClassifier\n",
    "from sklearn import svm\n",
    "import re\n",
    "from sklearn.linear_model import LogisticRegression\n",
    "from sklearn.metrics import confusion_matrix, accuracy_score \n",
    "from sklearn import model_selection\n",
    "from sklearn.model_selection import train_test_split\n",
    "from sklearn.metrics import classification_report, confusion_matrix"
   ]
  },
  {
   "cell_type": "markdown",
   "id": "2e592854",
   "metadata": {
    "papermill": {
     "duration": 0.015837,
     "end_time": "2023-01-24T20:47:55.408023",
     "exception": false,
     "start_time": "2023-01-24T20:47:55.392186",
     "status": "completed"
    },
    "tags": []
   },
   "source": [
    "### Loading the dataset"
   ]
  },
  {
   "cell_type": "code",
   "execution_count": 3,
   "id": "96ce43fe",
   "metadata": {
    "execution": {
     "iopub.execute_input": "2023-01-24T20:47:55.443071Z",
     "iopub.status.busy": "2023-01-24T20:47:55.442052Z",
     "iopub.status.idle": "2023-01-24T20:47:55.510370Z",
     "shell.execute_reply": "2023-01-24T20:47:55.509475Z"
    },
    "papermill": {
     "duration": 0.088847,
     "end_time": "2023-01-24T20:47:55.513071",
     "exception": false,
     "start_time": "2023-01-24T20:47:55.424224",
     "status": "completed"
    },
    "tags": []
   },
   "outputs": [],
   "source": [
    "data_tr=pd.read_csv('train.csv')\n",
    "data_test=pd.read_csv('test.csv')"
   ]
  },
  {
   "cell_type": "code",
   "execution_count": 4,
   "id": "c090fa70",
   "metadata": {
    "execution": {
     "iopub.execute_input": "2023-01-24T20:47:55.547856Z",
     "iopub.status.busy": "2023-01-24T20:47:55.547194Z",
     "iopub.status.idle": "2023-01-24T20:47:55.565624Z",
     "shell.execute_reply": "2023-01-24T20:47:55.564488Z"
    },
    "papermill": {
     "duration": 0.038436,
     "end_time": "2023-01-24T20:47:55.568025",
     "exception": false,
     "start_time": "2023-01-24T20:47:55.529589",
     "status": "completed"
    },
    "tags": []
   },
   "outputs": [
    {
     "data": {
      "text/html": [
       "<div>\n",
       "<style scoped>\n",
       "    .dataframe tbody tr th:only-of-type {\n",
       "        vertical-align: middle;\n",
       "    }\n",
       "\n",
       "    .dataframe tbody tr th {\n",
       "        vertical-align: top;\n",
       "    }\n",
       "\n",
       "    .dataframe thead th {\n",
       "        text-align: right;\n",
       "    }\n",
       "</style>\n",
       "<table border=\"1\" class=\"dataframe\">\n",
       "  <thead>\n",
       "    <tr style=\"text-align: right;\">\n",
       "      <th></th>\n",
       "      <th>id</th>\n",
       "      <th>keyword</th>\n",
       "      <th>location</th>\n",
       "      <th>text</th>\n",
       "      <th>target</th>\n",
       "    </tr>\n",
       "  </thead>\n",
       "  <tbody>\n",
       "    <tr>\n",
       "      <th>0</th>\n",
       "      <td>1</td>\n",
       "      <td>NaN</td>\n",
       "      <td>NaN</td>\n",
       "      <td>Our Deeds are the Reason of this #earthquake M...</td>\n",
       "      <td>1</td>\n",
       "    </tr>\n",
       "    <tr>\n",
       "      <th>1</th>\n",
       "      <td>4</td>\n",
       "      <td>NaN</td>\n",
       "      <td>NaN</td>\n",
       "      <td>Forest fire near La Ronge Sask. Canada</td>\n",
       "      <td>1</td>\n",
       "    </tr>\n",
       "    <tr>\n",
       "      <th>2</th>\n",
       "      <td>5</td>\n",
       "      <td>NaN</td>\n",
       "      <td>NaN</td>\n",
       "      <td>All residents asked to 'shelter in place' are ...</td>\n",
       "      <td>1</td>\n",
       "    </tr>\n",
       "    <tr>\n",
       "      <th>3</th>\n",
       "      <td>6</td>\n",
       "      <td>NaN</td>\n",
       "      <td>NaN</td>\n",
       "      <td>13,000 people receive #wildfires evacuation or...</td>\n",
       "      <td>1</td>\n",
       "    </tr>\n",
       "    <tr>\n",
       "      <th>4</th>\n",
       "      <td>7</td>\n",
       "      <td>NaN</td>\n",
       "      <td>NaN</td>\n",
       "      <td>Just got sent this photo from Ruby #Alaska as ...</td>\n",
       "      <td>1</td>\n",
       "    </tr>\n",
       "  </tbody>\n",
       "</table>\n",
       "</div>"
      ],
      "text/plain": [
       "   id keyword location                                               text  \\\n",
       "0   1     NaN      NaN  Our Deeds are the Reason of this #earthquake M...   \n",
       "1   4     NaN      NaN             Forest fire near La Ronge Sask. Canada   \n",
       "2   5     NaN      NaN  All residents asked to 'shelter in place' are ...   \n",
       "3   6     NaN      NaN  13,000 people receive #wildfires evacuation or...   \n",
       "4   7     NaN      NaN  Just got sent this photo from Ruby #Alaska as ...   \n",
       "\n",
       "   target  \n",
       "0       1  \n",
       "1       1  \n",
       "2       1  \n",
       "3       1  \n",
       "4       1  "
      ]
     },
     "execution_count": 4,
     "metadata": {},
     "output_type": "execute_result"
    }
   ],
   "source": [
    "data_tr.head()"
   ]
  },
  {
   "cell_type": "code",
   "execution_count": 5,
   "id": "94d9af11",
   "metadata": {
    "execution": {
     "iopub.execute_input": "2023-01-24T20:47:55.602362Z",
     "iopub.status.busy": "2023-01-24T20:47:55.601991Z",
     "iopub.status.idle": "2023-01-24T20:47:55.609892Z",
     "shell.execute_reply": "2023-01-24T20:47:55.607855Z"
    },
    "papermill": {
     "duration": 0.028989,
     "end_time": "2023-01-24T20:47:55.613366",
     "exception": false,
     "start_time": "2023-01-24T20:47:55.584377",
     "status": "completed"
    },
    "tags": []
   },
   "outputs": [
    {
     "data": {
      "text/plain": [
       "(7613, 5)"
      ]
     },
     "execution_count": 5,
     "metadata": {},
     "output_type": "execute_result"
    }
   ],
   "source": [
    "data_tr.shape"
   ]
  },
  {
   "cell_type": "code",
   "execution_count": 6,
   "id": "79f1cca5",
   "metadata": {
    "execution": {
     "iopub.execute_input": "2023-01-24T20:47:55.660387Z",
     "iopub.status.busy": "2023-01-24T20:47:55.659658Z",
     "iopub.status.idle": "2023-01-24T20:47:55.694609Z",
     "shell.execute_reply": "2023-01-24T20:47:55.692698Z"
    },
    "papermill": {
     "duration": 0.062534,
     "end_time": "2023-01-24T20:47:55.697222",
     "exception": false,
     "start_time": "2023-01-24T20:47:55.634688",
     "status": "completed"
    },
    "tags": []
   },
   "outputs": [
    {
     "name": "stdout",
     "output_type": "stream",
     "text": [
      "<class 'pandas.core.frame.DataFrame'>\n",
      "RangeIndex: 7613 entries, 0 to 7612\n",
      "Data columns (total 5 columns):\n",
      " #   Column    Non-Null Count  Dtype \n",
      "---  ------    --------------  ----- \n",
      " 0   id        7613 non-null   int64 \n",
      " 1   keyword   7552 non-null   object\n",
      " 2   location  5080 non-null   object\n",
      " 3   text      7613 non-null   object\n",
      " 4   target    7613 non-null   int64 \n",
      "dtypes: int64(2), object(3)\n",
      "memory usage: 297.5+ KB\n"
     ]
    }
   ],
   "source": [
    "data_tr.info()"
   ]
  },
  {
   "cell_type": "markdown",
   "id": "8e3e8e53",
   "metadata": {
    "papermill": {
     "duration": 0.015987,
     "end_time": "2023-01-24T20:47:55.731196",
     "exception": false,
     "start_time": "2023-01-24T20:47:55.715209",
     "status": "completed"
    },
    "tags": []
   },
   "source": [
    "# DATA PREPROCESSING"
   ]
  },
  {
   "cell_type": "code",
   "execution_count": 7,
   "id": "79de63d8",
   "metadata": {
    "execution": {
     "iopub.execute_input": "2023-01-24T20:47:55.765717Z",
     "iopub.status.busy": "2023-01-24T20:47:55.764890Z",
     "iopub.status.idle": "2023-01-24T20:47:55.770883Z",
     "shell.execute_reply": "2023-01-24T20:47:55.769824Z"
    },
    "papermill": {
     "duration": 0.025792,
     "end_time": "2023-01-24T20:47:55.773241",
     "exception": false,
     "start_time": "2023-01-24T20:47:55.747449",
     "status": "completed"
    },
    "tags": []
   },
   "outputs": [],
   "source": [
    "del data_tr['keyword']\n",
    "del data_tr['location']"
   ]
  },
  {
   "cell_type": "markdown",
   "id": "4afa1c60",
   "metadata": {
    "papermill": {
     "duration": 0.015975,
     "end_time": "2023-01-24T20:47:55.805842",
     "exception": false,
     "start_time": "2023-01-24T20:47:55.789867",
     "status": "completed"
    },
    "tags": []
   },
   "source": [
    "### Textual Date Cleaning using REGEX"
   ]
  },
  {
   "cell_type": "code",
   "execution_count": 8,
   "id": "24567347",
   "metadata": {
    "execution": {
     "iopub.execute_input": "2023-01-24T20:47:55.841091Z",
     "iopub.status.busy": "2023-01-24T20:47:55.840408Z",
     "iopub.status.idle": "2023-01-24T20:47:55.846685Z",
     "shell.execute_reply": "2023-01-24T20:47:55.845822Z"
    },
    "papermill": {
     "duration": 0.026577,
     "end_time": "2023-01-24T20:47:55.848910",
     "exception": false,
     "start_time": "2023-01-24T20:47:55.822333",
     "status": "completed"
    },
    "tags": []
   },
   "outputs": [],
   "source": [
    "def text_cleaner(text):\n",
    "    text = text.lower() # convert to lowercase\n",
    "    text = re.sub(r'[^a-zA-Z0-9\\s]', '', text) # remove punctuation and special characters\n",
    "    text = re.sub(r'\\s+', ' ', text) # remove extra whitespace\n",
    "    text = re.sub(r'https?://\\S+', '', text) # remove URLs\n",
    "    text = re.sub(r\"#\", \"\", text)\n",
    "    return text"
   ]
  },
  {
   "cell_type": "code",
   "execution_count": 9,
   "id": "ee650b64",
   "metadata": {
    "execution": {
     "iopub.execute_input": "2023-01-24T20:47:55.884505Z",
     "iopub.status.busy": "2023-01-24T20:47:55.883840Z",
     "iopub.status.idle": "2023-01-24T20:47:55.990174Z",
     "shell.execute_reply": "2023-01-24T20:47:55.988959Z"
    },
    "papermill": {
     "duration": 0.12701,
     "end_time": "2023-01-24T20:47:55.992802",
     "exception": false,
     "start_time": "2023-01-24T20:47:55.865792",
     "status": "completed"
    },
    "tags": []
   },
   "outputs": [],
   "source": [
    "data_tr['text'] = data_tr['text'].apply(text_cleaner)"
   ]
  },
  {
   "cell_type": "markdown",
   "id": "5b5725f6",
   "metadata": {
    "papermill": {
     "duration": 0.016358,
     "end_time": "2023-01-24T20:49:21.518573",
     "exception": false,
     "start_time": "2023-01-24T20:49:21.502215",
     "status": "completed"
    },
    "tags": []
   },
   "source": [
    "# ML MODEL BUILDING"
   ]
  },
  {
   "cell_type": "code",
   "execution_count": 10,
   "id": "66ed7975",
   "metadata": {
    "execution": {
     "iopub.execute_input": "2023-01-24T20:49:21.553627Z",
     "iopub.status.busy": "2023-01-24T20:49:21.553227Z",
     "iopub.status.idle": "2023-01-24T20:49:21.558105Z",
     "shell.execute_reply": "2023-01-24T20:49:21.556937Z"
    },
    "papermill": {
     "duration": 0.025016,
     "end_time": "2023-01-24T20:49:21.560199",
     "exception": false,
     "start_time": "2023-01-24T20:49:21.535183",
     "status": "completed"
    },
    "tags": []
   },
   "outputs": [],
   "source": [
    "x=data_tr['text']\n",
    "y=data_tr['target']"
   ]
  },
  {
   "cell_type": "code",
   "execution_count": 11,
   "id": "1bbbc4d0",
   "metadata": {
    "execution": {
     "iopub.execute_input": "2023-01-24T20:49:21.595325Z",
     "iopub.status.busy": "2023-01-24T20:49:21.594923Z",
     "iopub.status.idle": "2023-01-24T20:49:21.607056Z",
     "shell.execute_reply": "2023-01-24T20:49:21.605972Z"
    },
    "papermill": {
     "duration": 0.03277,
     "end_time": "2023-01-24T20:49:21.609623",
     "exception": false,
     "start_time": "2023-01-24T20:49:21.576853",
     "status": "completed"
    },
    "tags": []
   },
   "outputs": [],
   "source": [
    "x_train,x_test,y_train,y_test=train_test_split(x,y,test_size=0.2,random_state=4)"
   ]
  },
  {
   "cell_type": "markdown",
   "id": "e3f66883",
   "metadata": {
    "papermill": {
     "duration": 0.016906,
     "end_time": "2023-01-24T20:49:21.644217",
     "exception": false,
     "start_time": "2023-01-24T20:49:21.627311",
     "status": "completed"
    },
    "tags": []
   },
   "source": [
    "### Converting textual Data into Numeric Form using TF-IDF Vectorization"
   ]
  },
  {
   "cell_type": "code",
   "execution_count": 12,
   "id": "af006988",
   "metadata": {
    "execution": {
     "iopub.execute_input": "2023-01-24T20:49:21.680434Z",
     "iopub.status.busy": "2023-01-24T20:49:21.680029Z",
     "iopub.status.idle": "2023-01-24T20:49:21.840432Z",
     "shell.execute_reply": "2023-01-24T20:49:21.839442Z"
    },
    "papermill": {
     "duration": 0.181618,
     "end_time": "2023-01-24T20:49:21.843153",
     "exception": false,
     "start_time": "2023-01-24T20:49:21.661535",
     "status": "completed"
    },
    "tags": []
   },
   "outputs": [],
   "source": [
    "# Import TfidfVectorizer\n",
    "from sklearn.feature_extraction.text import TfidfVectorizer\n",
    "vectorizer = TfidfVectorizer(stop_words = 'english')\n",
    "X_train = vectorizer.fit_transform(x_train)\n",
    "X_test = vectorizer.transform(x_test)"
   ]
  },
  {
   "cell_type": "code",
   "execution_count": 13,
   "id": "64acfac0",
   "metadata": {
    "execution": {
     "iopub.execute_input": "2023-01-24T20:49:21.878583Z",
     "iopub.status.busy": "2023-01-24T20:49:21.878196Z",
     "iopub.status.idle": "2023-01-24T20:49:21.885517Z",
     "shell.execute_reply": "2023-01-24T20:49:21.884375Z"
    },
    "papermill": {
     "duration": 0.027928,
     "end_time": "2023-01-24T20:49:21.887938",
     "exception": false,
     "start_time": "2023-01-24T20:49:21.860010",
     "status": "completed"
    },
    "tags": []
   },
   "outputs": [
    {
     "data": {
      "text/plain": [
       "(6090, 18739)"
      ]
     },
     "execution_count": 13,
     "metadata": {},
     "output_type": "execute_result"
    }
   ],
   "source": [
    "X_train.shape"
   ]
  },
  {
   "cell_type": "markdown",
   "id": "200cf04b",
   "metadata": {
    "papermill": {
     "duration": 0.017031,
     "end_time": "2023-01-24T21:20:38.282917",
     "exception": false,
     "start_time": "2023-01-24T21:20:38.265886",
     "status": "completed"
    },
    "tags": []
   },
   "source": [
    "### Model Results on best Parameters"
   ]
  },
  {
   "cell_type": "markdown",
   "id": "db4ef19b",
   "metadata": {
    "papermill": {
     "duration": 0.02029,
     "end_time": "2023-01-24T21:21:32.533983",
     "exception": false,
     "start_time": "2023-01-24T21:21:32.513693",
     "status": "completed"
    },
    "tags": []
   },
   "source": [
    "### SVM "
   ]
  },
  {
   "cell_type": "code",
   "execution_count": 14,
   "id": "c50befb4",
   "metadata": {
    "execution": {
     "iopub.execute_input": "2023-01-24T21:21:32.584875Z",
     "iopub.status.busy": "2023-01-24T21:21:32.584101Z",
     "iopub.status.idle": "2023-01-24T21:21:40.509994Z",
     "shell.execute_reply": "2023-01-24T21:21:40.508597Z"
    },
    "papermill": {
     "duration": 7.955293,
     "end_time": "2023-01-24T21:21:40.512372",
     "exception": false,
     "start_time": "2023-01-24T21:21:32.557079",
     "status": "completed"
    },
    "tags": []
   },
   "outputs": [
    {
     "data": {
      "text/plain": [
       "0.7918581746552856"
      ]
     },
     "execution_count": 14,
     "metadata": {},
     "output_type": "execute_result"
    }
   ],
   "source": [
    "modelsvm=svm.SVC()\n",
    "modelsvm.fit(X_train,y_train)\n",
    "pred_testsvm=modelsvm.predict(X_test)\n",
    "accuracy_score(y_test,pred_testsvm)"
   ]
  },
  {
   "cell_type": "code",
   "execution_count": 15,
   "id": "3ff4c704",
   "metadata": {},
   "outputs": [],
   "source": [
    "eval = vectorizer.transform(data_test['text']).toarray()"
   ]
  },
  {
   "cell_type": "code",
   "execution_count": 16,
   "id": "4e7d9870",
   "metadata": {},
   "outputs": [],
   "source": [
    "final_pred = modelsvm.predict(eval)"
   ]
  },
  {
   "cell_type": "code",
   "execution_count": 17,
   "id": "003f5944",
   "metadata": {},
   "outputs": [],
   "source": [
    "submission2 = data_test[['id']].reset_index(drop=True)\n",
    "submission2['target'] = final_pred.astype('int64')"
   ]
  },
  {
   "cell_type": "code",
   "execution_count": 18,
   "id": "c12cdb05",
   "metadata": {},
   "outputs": [
    {
     "data": {
      "text/html": [
       "<div>\n",
       "<style scoped>\n",
       "    .dataframe tbody tr th:only-of-type {\n",
       "        vertical-align: middle;\n",
       "    }\n",
       "\n",
       "    .dataframe tbody tr th {\n",
       "        vertical-align: top;\n",
       "    }\n",
       "\n",
       "    .dataframe thead th {\n",
       "        text-align: right;\n",
       "    }\n",
       "</style>\n",
       "<table border=\"1\" class=\"dataframe\">\n",
       "  <thead>\n",
       "    <tr style=\"text-align: right;\">\n",
       "      <th></th>\n",
       "      <th>id</th>\n",
       "      <th>target</th>\n",
       "    </tr>\n",
       "  </thead>\n",
       "  <tbody>\n",
       "    <tr>\n",
       "      <th>0</th>\n",
       "      <td>0</td>\n",
       "      <td>1</td>\n",
       "    </tr>\n",
       "    <tr>\n",
       "      <th>1</th>\n",
       "      <td>2</td>\n",
       "      <td>1</td>\n",
       "    </tr>\n",
       "    <tr>\n",
       "      <th>2</th>\n",
       "      <td>3</td>\n",
       "      <td>1</td>\n",
       "    </tr>\n",
       "    <tr>\n",
       "      <th>3</th>\n",
       "      <td>9</td>\n",
       "      <td>0</td>\n",
       "    </tr>\n",
       "    <tr>\n",
       "      <th>4</th>\n",
       "      <td>11</td>\n",
       "      <td>1</td>\n",
       "    </tr>\n",
       "  </tbody>\n",
       "</table>\n",
       "</div>"
      ],
      "text/plain": [
       "   id  target\n",
       "0   0       1\n",
       "1   2       1\n",
       "2   3       1\n",
       "3   9       0\n",
       "4  11       1"
      ]
     },
     "execution_count": 18,
     "metadata": {},
     "output_type": "execute_result"
    }
   ],
   "source": [
    "submission2.head(5)"
   ]
  },
  {
   "cell_type": "code",
   "execution_count": 19,
   "id": "68b24b44",
   "metadata": {},
   "outputs": [],
   "source": [
    "submission2.to_csv('Submission_V6.csv', index=False)"
   ]
  },
  {
   "cell_type": "code",
   "execution_count": null,
   "id": "e1174b22",
   "metadata": {},
   "outputs": [],
   "source": []
  }
 ],
 "metadata": {
  "kernelspec": {
   "display_name": "Python 3 (ipykernel)",
   "language": "python",
   "name": "python3"
  },
  "language_info": {
   "codemirror_mode": {
    "name": "ipython",
    "version": 3
   },
   "file_extension": ".py",
   "mimetype": "text/x-python",
   "name": "python",
   "nbconvert_exporter": "python",
   "pygments_lexer": "ipython3",
   "version": "3.10.9"
  },
  "papermill": {
   "default_parameters": {},
   "duration": 3054.761739,
   "end_time": "2023-01-24T21:38:29.213764",
   "environment_variables": {},
   "exception": null,
   "input_path": "__notebook__.ipynb",
   "output_path": "__notebook__.ipynb",
   "parameters": {},
   "start_time": "2023-01-24T20:47:34.452025",
   "version": "2.3.4"
  },
  "varInspector": {
   "cols": {
    "lenName": 16,
    "lenType": 16,
    "lenVar": 40
   },
   "kernels_config": {
    "python": {
     "delete_cmd_postfix": "",
     "delete_cmd_prefix": "del ",
     "library": "var_list.py",
     "varRefreshCmd": "print(var_dic_list())"
    },
    "r": {
     "delete_cmd_postfix": ") ",
     "delete_cmd_prefix": "rm(",
     "library": "var_list.r",
     "varRefreshCmd": "cat(var_dic_list()) "
    }
   },
   "types_to_exclude": [
    "module",
    "function",
    "builtin_function_or_method",
    "instance",
    "_Feature"
   ],
   "window_display": false
  }
 },
 "nbformat": 4,
 "nbformat_minor": 5
}
